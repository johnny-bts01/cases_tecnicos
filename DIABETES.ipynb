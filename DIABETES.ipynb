{
 "cells": [
  {
   "cell_type": "code",
   "execution_count": 39,
   "id": "b5bdaece",
   "metadata": {},
   "outputs": [],
   "source": [
    "import pandas as pd\n",
    "import matplotlib.pyplot as plt\n",
    "import seaborn as sns\n",
    "import numpy as np\n",
    "from scipy import stats\n",
    "from sklearn.preprocessing import StandardScaler\n",
    "import warnings\n",
    "#warnings.filterwarning('ignore')\n",
    "%matplotlib inline\n",
    "from xgboost import XGBClassifier\n",
    "from sklearn import metrics\n",
    "from imblearn.ensemble import BalancedRandomForestClassifier\n",
    "from sklearn.model_selection import GridSearchCV\n"
   ]
  },
  {
   "attachments": {},
   "cell_type": "markdown",
   "id": "0096f57e",
   "metadata": {},
   "source": [
    "<font size=\"2\">Para o propósito dessa atividade, irei pular a etapa de EDA. Nessa etapa irei observar as correlações com a target e possíveis correlações entre as variáveis."
   ]
  },
  {
   "cell_type": "code",
   "execution_count": 4,
   "id": "2de0ae66",
   "metadata": {},
   "outputs": [
    {
     "data": {
      "text/html": [
       "<div>\n",
       "<style scoped>\n",
       "    .dataframe tbody tr th:only-of-type {\n",
       "        vertical-align: middle;\n",
       "    }\n",
       "\n",
       "    .dataframe tbody tr th {\n",
       "        vertical-align: top;\n",
       "    }\n",
       "\n",
       "    .dataframe thead th {\n",
       "        text-align: right;\n",
       "    }\n",
       "</style>\n",
       "<table border=\"1\" class=\"dataframe\">\n",
       "  <thead>\n",
       "    <tr style=\"text-align: right;\">\n",
       "      <th></th>\n",
       "      <th>Pregnancies</th>\n",
       "      <th>Glucose</th>\n",
       "      <th>BloodPressure</th>\n",
       "      <th>SkinThickness</th>\n",
       "      <th>Insulin</th>\n",
       "      <th>BMI</th>\n",
       "      <th>DiabetesPedigreeFunction</th>\n",
       "      <th>Age</th>\n",
       "      <th>Outcome</th>\n",
       "    </tr>\n",
       "  </thead>\n",
       "  <tbody>\n",
       "    <tr>\n",
       "      <th>0</th>\n",
       "      <td>6</td>\n",
       "      <td>148</td>\n",
       "      <td>72</td>\n",
       "      <td>35</td>\n",
       "      <td>0</td>\n",
       "      <td>33.6</td>\n",
       "      <td>0.627</td>\n",
       "      <td>50</td>\n",
       "      <td>1</td>\n",
       "    </tr>\n",
       "    <tr>\n",
       "      <th>1</th>\n",
       "      <td>1</td>\n",
       "      <td>85</td>\n",
       "      <td>66</td>\n",
       "      <td>29</td>\n",
       "      <td>0</td>\n",
       "      <td>26.6</td>\n",
       "      <td>0.351</td>\n",
       "      <td>31</td>\n",
       "      <td>0</td>\n",
       "    </tr>\n",
       "    <tr>\n",
       "      <th>2</th>\n",
       "      <td>8</td>\n",
       "      <td>183</td>\n",
       "      <td>64</td>\n",
       "      <td>0</td>\n",
       "      <td>0</td>\n",
       "      <td>23.3</td>\n",
       "      <td>0.672</td>\n",
       "      <td>32</td>\n",
       "      <td>1</td>\n",
       "    </tr>\n",
       "    <tr>\n",
       "      <th>3</th>\n",
       "      <td>1</td>\n",
       "      <td>89</td>\n",
       "      <td>66</td>\n",
       "      <td>23</td>\n",
       "      <td>94</td>\n",
       "      <td>28.1</td>\n",
       "      <td>0.167</td>\n",
       "      <td>21</td>\n",
       "      <td>0</td>\n",
       "    </tr>\n",
       "    <tr>\n",
       "      <th>4</th>\n",
       "      <td>0</td>\n",
       "      <td>137</td>\n",
       "      <td>40</td>\n",
       "      <td>35</td>\n",
       "      <td>168</td>\n",
       "      <td>43.1</td>\n",
       "      <td>2.288</td>\n",
       "      <td>33</td>\n",
       "      <td>1</td>\n",
       "    </tr>\n",
       "  </tbody>\n",
       "</table>\n",
       "</div>"
      ],
      "text/plain": [
       "   Pregnancies  Glucose  BloodPressure  SkinThickness  Insulin   BMI  \\\n",
       "0            6      148             72             35        0  33.6   \n",
       "1            1       85             66             29        0  26.6   \n",
       "2            8      183             64              0        0  23.3   \n",
       "3            1       89             66             23       94  28.1   \n",
       "4            0      137             40             35      168  43.1   \n",
       "\n",
       "   DiabetesPedigreeFunction  Age  Outcome  \n",
       "0                     0.627   50        1  \n",
       "1                     0.351   31        0  \n",
       "2                     0.672   32        1  \n",
       "3                     0.167   21        0  \n",
       "4                     2.288   33        1  "
      ]
     },
     "execution_count": 4,
     "metadata": {},
     "output_type": "execute_result"
    }
   ],
   "source": [
    "df_treino = pd.read_csv('diabetes.csv')\n",
    "df_treino.head()\n"
   ]
  },
  {
   "cell_type": "code",
   "execution_count": 126,
   "id": "7d01e947",
   "metadata": {},
   "outputs": [
    {
     "data": {
      "text/html": [
       "<div>\n",
       "<style scoped>\n",
       "    .dataframe tbody tr th:only-of-type {\n",
       "        vertical-align: middle;\n",
       "    }\n",
       "\n",
       "    .dataframe tbody tr th {\n",
       "        vertical-align: top;\n",
       "    }\n",
       "\n",
       "    .dataframe thead th {\n",
       "        text-align: right;\n",
       "    }\n",
       "</style>\n",
       "<table border=\"1\" class=\"dataframe\">\n",
       "  <thead>\n",
       "    <tr style=\"text-align: right;\">\n",
       "      <th></th>\n",
       "      <th>Pregnancies</th>\n",
       "      <th>Glucose</th>\n",
       "      <th>BloodPressure</th>\n",
       "      <th>SkinThickness</th>\n",
       "      <th>Insulin</th>\n",
       "      <th>BMI</th>\n",
       "      <th>DiabetesPedigreeFunction</th>\n",
       "      <th>Age</th>\n",
       "      <th>Outcome</th>\n",
       "    </tr>\n",
       "  </thead>\n",
       "  <tbody>\n",
       "    <tr>\n",
       "      <th>count</th>\n",
       "      <td>768.00</td>\n",
       "      <td>768.00</td>\n",
       "      <td>768.00</td>\n",
       "      <td>768.00</td>\n",
       "      <td>768.00</td>\n",
       "      <td>768.00</td>\n",
       "      <td>768.00</td>\n",
       "      <td>768.00</td>\n",
       "      <td>768.00</td>\n",
       "    </tr>\n",
       "    <tr>\n",
       "      <th>mean</th>\n",
       "      <td>3.85</td>\n",
       "      <td>120.89</td>\n",
       "      <td>69.11</td>\n",
       "      <td>20.54</td>\n",
       "      <td>79.80</td>\n",
       "      <td>31.99</td>\n",
       "      <td>0.47</td>\n",
       "      <td>33.24</td>\n",
       "      <td>0.35</td>\n",
       "    </tr>\n",
       "    <tr>\n",
       "      <th>std</th>\n",
       "      <td>3.37</td>\n",
       "      <td>31.97</td>\n",
       "      <td>19.36</td>\n",
       "      <td>15.95</td>\n",
       "      <td>115.24</td>\n",
       "      <td>7.88</td>\n",
       "      <td>0.33</td>\n",
       "      <td>11.76</td>\n",
       "      <td>0.48</td>\n",
       "    </tr>\n",
       "    <tr>\n",
       "      <th>min</th>\n",
       "      <td>0.00</td>\n",
       "      <td>0.00</td>\n",
       "      <td>0.00</td>\n",
       "      <td>0.00</td>\n",
       "      <td>0.00</td>\n",
       "      <td>0.00</td>\n",
       "      <td>0.08</td>\n",
       "      <td>21.00</td>\n",
       "      <td>0.00</td>\n",
       "    </tr>\n",
       "    <tr>\n",
       "      <th>25%</th>\n",
       "      <td>1.00</td>\n",
       "      <td>99.00</td>\n",
       "      <td>62.00</td>\n",
       "      <td>0.00</td>\n",
       "      <td>0.00</td>\n",
       "      <td>27.30</td>\n",
       "      <td>0.24</td>\n",
       "      <td>24.00</td>\n",
       "      <td>0.00</td>\n",
       "    </tr>\n",
       "    <tr>\n",
       "      <th>50%</th>\n",
       "      <td>3.00</td>\n",
       "      <td>117.00</td>\n",
       "      <td>72.00</td>\n",
       "      <td>23.00</td>\n",
       "      <td>30.50</td>\n",
       "      <td>32.00</td>\n",
       "      <td>0.37</td>\n",
       "      <td>29.00</td>\n",
       "      <td>0.00</td>\n",
       "    </tr>\n",
       "    <tr>\n",
       "      <th>75%</th>\n",
       "      <td>6.00</td>\n",
       "      <td>140.25</td>\n",
       "      <td>80.00</td>\n",
       "      <td>32.00</td>\n",
       "      <td>127.25</td>\n",
       "      <td>36.60</td>\n",
       "      <td>0.63</td>\n",
       "      <td>41.00</td>\n",
       "      <td>1.00</td>\n",
       "    </tr>\n",
       "    <tr>\n",
       "      <th>max</th>\n",
       "      <td>17.00</td>\n",
       "      <td>199.00</td>\n",
       "      <td>122.00</td>\n",
       "      <td>99.00</td>\n",
       "      <td>846.00</td>\n",
       "      <td>67.10</td>\n",
       "      <td>2.42</td>\n",
       "      <td>81.00</td>\n",
       "      <td>1.00</td>\n",
       "    </tr>\n",
       "  </tbody>\n",
       "</table>\n",
       "</div>"
      ],
      "text/plain": [
       "       Pregnancies  Glucose  BloodPressure  SkinThickness  Insulin    BMI  \\\n",
       "count       768.00   768.00         768.00         768.00   768.00 768.00   \n",
       "mean          3.85   120.89          69.11          20.54    79.80  31.99   \n",
       "std           3.37    31.97          19.36          15.95   115.24   7.88   \n",
       "min           0.00     0.00           0.00           0.00     0.00   0.00   \n",
       "25%           1.00    99.00          62.00           0.00     0.00  27.30   \n",
       "50%           3.00   117.00          72.00          23.00    30.50  32.00   \n",
       "75%           6.00   140.25          80.00          32.00   127.25  36.60   \n",
       "max          17.00   199.00         122.00          99.00   846.00  67.10   \n",
       "\n",
       "       DiabetesPedigreeFunction    Age  Outcome  \n",
       "count                    768.00 768.00   768.00  \n",
       "mean                       0.47  33.24     0.35  \n",
       "std                        0.33  11.76     0.48  \n",
       "min                        0.08  21.00     0.00  \n",
       "25%                        0.24  24.00     0.00  \n",
       "50%                        0.37  29.00     0.00  \n",
       "75%                        0.63  41.00     1.00  \n",
       "max                        2.42  81.00     1.00  "
      ]
     },
     "execution_count": 126,
     "metadata": {},
     "output_type": "execute_result"
    }
   ],
   "source": [
    "df_treino.describe()\n",
    "#insulina e skinthickness parecer ter outliers"
   ]
  },
  {
   "cell_type": "code",
   "execution_count": 9,
   "id": "041ccef3",
   "metadata": {},
   "outputs": [
    {
     "data": {
      "text/plain": [
       "Pregnancies                 0\n",
       "Glucose                     0\n",
       "BloodPressure               0\n",
       "SkinThickness               0\n",
       "Insulin                     0\n",
       "BMI                         0\n",
       "DiabetesPedigreeFunction    0\n",
       "Age                         0\n",
       "Outcome                     0\n",
       "dtype: int64"
      ]
     },
     "execution_count": 9,
     "metadata": {},
     "output_type": "execute_result"
    }
   ],
   "source": [
    "df_treino.isna().sum()"
   ]
  },
  {
   "cell_type": "code",
   "execution_count": 6,
   "id": "d781b628",
   "metadata": {},
   "outputs": [
    {
     "data": {
      "text/html": [
       "<style type=\"text/css\">\n",
       "#T_2c80d_row0_col0, #T_2c80d_row1_col1, #T_2c80d_row2_col2, #T_2c80d_row3_col3, #T_2c80d_row4_col4, #T_2c80d_row5_col5, #T_2c80d_row6_col6, #T_2c80d_row7_col7, #T_2c80d_row8_col8 {\n",
       "  background-color: #b40426;\n",
       "  color: #f1f1f1;\n",
       "}\n",
       "#T_2c80d_row0_col1 {\n",
       "  background-color: #516ddb;\n",
       "  color: #f1f1f1;\n",
       "}\n",
       "#T_2c80d_row0_col2 {\n",
       "  background-color: #5a78e4;\n",
       "  color: #f1f1f1;\n",
       "}\n",
       "#T_2c80d_row0_col3, #T_2c80d_row7_col4 {\n",
       "  background-color: #4358cb;\n",
       "  color: #f1f1f1;\n",
       "}\n",
       "#T_2c80d_row0_col4, #T_2c80d_row0_col5, #T_2c80d_row0_col6, #T_2c80d_row2_col8, #T_2c80d_row3_col0, #T_2c80d_row3_col1, #T_2c80d_row3_col7, #T_2c80d_row6_col2, #T_2c80d_row7_col3 {\n",
       "  background-color: #3b4cc0;\n",
       "  color: #f1f1f1;\n",
       "}\n",
       "#T_2c80d_row0_col7 {\n",
       "  background-color: #f1cdba;\n",
       "  color: #000000;\n",
       "}\n",
       "#T_2c80d_row0_col8, #T_2c80d_row1_col6 {\n",
       "  background-color: #6f92f3;\n",
       "  color: #f1f1f1;\n",
       "}\n",
       "#T_2c80d_row1_col0 {\n",
       "  background-color: #799cf8;\n",
       "  color: #f1f1f1;\n",
       "}\n",
       "#T_2c80d_row1_col2, #T_2c80d_row6_col8 {\n",
       "  background-color: #5e7de7;\n",
       "  color: #f1f1f1;\n",
       "}\n",
       "#T_2c80d_row1_col3 {\n",
       "  background-color: #6b8df0;\n",
       "  color: #f1f1f1;\n",
       "}\n",
       "#T_2c80d_row1_col4 {\n",
       "  background-color: #b9d0f9;\n",
       "  color: #000000;\n",
       "}\n",
       "#T_2c80d_row1_col5, #T_2c80d_row3_col6 {\n",
       "  background-color: #7ea1fa;\n",
       "  color: #f1f1f1;\n",
       "}\n",
       "#T_2c80d_row1_col7 {\n",
       "  background-color: #abc8fd;\n",
       "  color: #000000;\n",
       "}\n",
       "#T_2c80d_row1_col8 {\n",
       "  background-color: #c9d7f0;\n",
       "  color: #000000;\n",
       "}\n",
       "#T_2c80d_row2_col0, #T_2c80d_row7_col2 {\n",
       "  background-color: #7da0f9;\n",
       "  color: #f1f1f1;\n",
       "}\n",
       "#T_2c80d_row2_col1 {\n",
       "  background-color: #5977e3;\n",
       "  color: #f1f1f1;\n",
       "}\n",
       "#T_2c80d_row2_col3 {\n",
       "  background-color: #9abbff;\n",
       "  color: #000000;\n",
       "}\n",
       "#T_2c80d_row2_col4 {\n",
       "  background-color: #6a8bef;\n",
       "  color: #f1f1f1;\n",
       "}\n",
       "#T_2c80d_row2_col5, #T_2c80d_row6_col3 {\n",
       "  background-color: #93b5fe;\n",
       "  color: #000000;\n",
       "}\n",
       "#T_2c80d_row2_col6 {\n",
       "  background-color: #506bda;\n",
       "  color: #f1f1f1;\n",
       "}\n",
       "#T_2c80d_row2_col7 {\n",
       "  background-color: #a5c3fe;\n",
       "  color: #000000;\n",
       "}\n",
       "#T_2c80d_row3_col2, #T_2c80d_row5_col1 {\n",
       "  background-color: #7295f4;\n",
       "  color: #f1f1f1;\n",
       "}\n",
       "#T_2c80d_row3_col4 {\n",
       "  background-color: #d6dce4;\n",
       "  color: #000000;\n",
       "}\n",
       "#T_2c80d_row3_col5 {\n",
       "  background-color: #bad0f8;\n",
       "  color: #000000;\n",
       "}\n",
       "#T_2c80d_row3_col8 {\n",
       "  background-color: #3d50c3;\n",
       "  color: #f1f1f1;\n",
       "}\n",
       "#T_2c80d_row4_col0 {\n",
       "  background-color: #3c4ec2;\n",
       "  color: #f1f1f1;\n",
       "}\n",
       "#T_2c80d_row4_col1 {\n",
       "  background-color: #9bbcff;\n",
       "  color: #000000;\n",
       "}\n",
       "#T_2c80d_row4_col2 {\n",
       "  background-color: #4961d2;\n",
       "  color: #f1f1f1;\n",
       "}\n",
       "#T_2c80d_row4_col3 {\n",
       "  background-color: #dbdcde;\n",
       "  color: #000000;\n",
       "}\n",
       "#T_2c80d_row4_col5 {\n",
       "  background-color: #7597f6;\n",
       "  color: #f1f1f1;\n",
       "}\n",
       "#T_2c80d_row4_col6 {\n",
       "  background-color: #80a3fa;\n",
       "  color: #f1f1f1;\n",
       "}\n",
       "#T_2c80d_row4_col7, #T_2c80d_row7_col6 {\n",
       "  background-color: #4e68d8;\n",
       "  color: #f1f1f1;\n",
       "}\n",
       "#T_2c80d_row4_col8 {\n",
       "  background-color: #4f69d9;\n",
       "  color: #f1f1f1;\n",
       "}\n",
       "#T_2c80d_row5_col0 {\n",
       "  background-color: #5673e0;\n",
       "  color: #f1f1f1;\n",
       "}\n",
       "#T_2c80d_row5_col2, #T_2c80d_row5_col4 {\n",
       "  background-color: #8db0fe;\n",
       "  color: #000000;\n",
       "}\n",
       "#T_2c80d_row5_col3 {\n",
       "  background-color: #d1dae9;\n",
       "  color: #000000;\n",
       "}\n",
       "#T_2c80d_row5_col6, #T_2c80d_row8_col3 {\n",
       "  background-color: #7093f3;\n",
       "  color: #f1f1f1;\n",
       "}\n",
       "#T_2c80d_row5_col7 {\n",
       "  background-color: #6485ec;\n",
       "  color: #f1f1f1;\n",
       "}\n",
       "#T_2c80d_row5_col8 {\n",
       "  background-color: #8badfd;\n",
       "  color: #000000;\n",
       "}\n",
       "#T_2c80d_row6_col0 {\n",
       "  background-color: #485fd1;\n",
       "  color: #f1f1f1;\n",
       "}\n",
       "#T_2c80d_row6_col1 {\n",
       "  background-color: #5470de;\n",
       "  color: #f1f1f1;\n",
       "}\n",
       "#T_2c80d_row6_col4 {\n",
       "  background-color: #89acfd;\n",
       "  color: #000000;\n",
       "}\n",
       "#T_2c80d_row6_col5 {\n",
       "  background-color: #6282ea;\n",
       "  color: #f1f1f1;\n",
       "}\n",
       "#T_2c80d_row6_col7 {\n",
       "  background-color: #6384eb;\n",
       "  color: #f1f1f1;\n",
       "}\n",
       "#T_2c80d_row7_col0 {\n",
       "  background-color: #efcfbf;\n",
       "  color: #000000;\n",
       "}\n",
       "#T_2c80d_row7_col1 {\n",
       "  background-color: #81a4fb;\n",
       "  color: #f1f1f1;\n",
       "}\n",
       "#T_2c80d_row7_col5 {\n",
       "  background-color: #3f53c6;\n",
       "  color: #f1f1f1;\n",
       "}\n",
       "#T_2c80d_row7_col8 {\n",
       "  background-color: #7699f6;\n",
       "  color: #f1f1f1;\n",
       "}\n",
       "#T_2c80d_row8_col0, #T_2c80d_row8_col5 {\n",
       "  background-color: #97b8ff;\n",
       "  color: #000000;\n",
       "}\n",
       "#T_2c80d_row8_col1 {\n",
       "  background-color: #cbd8ee;\n",
       "  color: #000000;\n",
       "}\n",
       "#T_2c80d_row8_col2 {\n",
       "  background-color: #4257c9;\n",
       "  color: #f1f1f1;\n",
       "}\n",
       "#T_2c80d_row8_col4 {\n",
       "  background-color: #779af7;\n",
       "  color: #f1f1f1;\n",
       "}\n",
       "#T_2c80d_row8_col6 {\n",
       "  background-color: #7b9ff9;\n",
       "  color: #f1f1f1;\n",
       "}\n",
       "#T_2c80d_row8_col7 {\n",
       "  background-color: #a3c2fe;\n",
       "  color: #000000;\n",
       "}\n",
       "</style>\n",
       "<table id=\"T_2c80d\">\n",
       "  <thead>\n",
       "    <tr>\n",
       "      <th class=\"blank level0\" >&nbsp;</th>\n",
       "      <th id=\"T_2c80d_level0_col0\" class=\"col_heading level0 col0\" >Pregnancies</th>\n",
       "      <th id=\"T_2c80d_level0_col1\" class=\"col_heading level0 col1\" >Glucose</th>\n",
       "      <th id=\"T_2c80d_level0_col2\" class=\"col_heading level0 col2\" >BloodPressure</th>\n",
       "      <th id=\"T_2c80d_level0_col3\" class=\"col_heading level0 col3\" >SkinThickness</th>\n",
       "      <th id=\"T_2c80d_level0_col4\" class=\"col_heading level0 col4\" >Insulin</th>\n",
       "      <th id=\"T_2c80d_level0_col5\" class=\"col_heading level0 col5\" >BMI</th>\n",
       "      <th id=\"T_2c80d_level0_col6\" class=\"col_heading level0 col6\" >DiabetesPedigreeFunction</th>\n",
       "      <th id=\"T_2c80d_level0_col7\" class=\"col_heading level0 col7\" >Age</th>\n",
       "      <th id=\"T_2c80d_level0_col8\" class=\"col_heading level0 col8\" >Outcome</th>\n",
       "    </tr>\n",
       "  </thead>\n",
       "  <tbody>\n",
       "    <tr>\n",
       "      <th id=\"T_2c80d_level0_row0\" class=\"row_heading level0 row0\" >Pregnancies</th>\n",
       "      <td id=\"T_2c80d_row0_col0\" class=\"data row0 col0\" >1.000000</td>\n",
       "      <td id=\"T_2c80d_row0_col1\" class=\"data row0 col1\" >0.129459</td>\n",
       "      <td id=\"T_2c80d_row0_col2\" class=\"data row0 col2\" >0.141282</td>\n",
       "      <td id=\"T_2c80d_row0_col3\" class=\"data row0 col3\" >-0.081672</td>\n",
       "      <td id=\"T_2c80d_row0_col4\" class=\"data row0 col4\" >-0.073535</td>\n",
       "      <td id=\"T_2c80d_row0_col5\" class=\"data row0 col5\" >0.017683</td>\n",
       "      <td id=\"T_2c80d_row0_col6\" class=\"data row0 col6\" >-0.033523</td>\n",
       "      <td id=\"T_2c80d_row0_col7\" class=\"data row0 col7\" >0.544341</td>\n",
       "      <td id=\"T_2c80d_row0_col8\" class=\"data row0 col8\" >0.221898</td>\n",
       "    </tr>\n",
       "    <tr>\n",
       "      <th id=\"T_2c80d_level0_row1\" class=\"row_heading level0 row1\" >Glucose</th>\n",
       "      <td id=\"T_2c80d_row1_col0\" class=\"data row1 col0\" >0.129459</td>\n",
       "      <td id=\"T_2c80d_row1_col1\" class=\"data row1 col1\" >1.000000</td>\n",
       "      <td id=\"T_2c80d_row1_col2\" class=\"data row1 col2\" >0.152590</td>\n",
       "      <td id=\"T_2c80d_row1_col3\" class=\"data row1 col3\" >0.057328</td>\n",
       "      <td id=\"T_2c80d_row1_col4\" class=\"data row1 col4\" >0.331357</td>\n",
       "      <td id=\"T_2c80d_row1_col5\" class=\"data row1 col5\" >0.221071</td>\n",
       "      <td id=\"T_2c80d_row1_col6\" class=\"data row1 col6\" >0.137337</td>\n",
       "      <td id=\"T_2c80d_row1_col7\" class=\"data row1 col7\" >0.263514</td>\n",
       "      <td id=\"T_2c80d_row1_col8\" class=\"data row1 col8\" >0.466581</td>\n",
       "    </tr>\n",
       "    <tr>\n",
       "      <th id=\"T_2c80d_level0_row2\" class=\"row_heading level0 row2\" >BloodPressure</th>\n",
       "      <td id=\"T_2c80d_row2_col0\" class=\"data row2 col0\" >0.141282</td>\n",
       "      <td id=\"T_2c80d_row2_col1\" class=\"data row2 col1\" >0.152590</td>\n",
       "      <td id=\"T_2c80d_row2_col2\" class=\"data row2 col2\" >1.000000</td>\n",
       "      <td id=\"T_2c80d_row2_col3\" class=\"data row2 col3\" >0.207371</td>\n",
       "      <td id=\"T_2c80d_row2_col4\" class=\"data row2 col4\" >0.088933</td>\n",
       "      <td id=\"T_2c80d_row2_col5\" class=\"data row2 col5\" >0.281805</td>\n",
       "      <td id=\"T_2c80d_row2_col6\" class=\"data row2 col6\" >0.041265</td>\n",
       "      <td id=\"T_2c80d_row2_col7\" class=\"data row2 col7\" >0.239528</td>\n",
       "      <td id=\"T_2c80d_row2_col8\" class=\"data row2 col8\" >0.065068</td>\n",
       "    </tr>\n",
       "    <tr>\n",
       "      <th id=\"T_2c80d_level0_row3\" class=\"row_heading level0 row3\" >SkinThickness</th>\n",
       "      <td id=\"T_2c80d_row3_col0\" class=\"data row3 col0\" >-0.081672</td>\n",
       "      <td id=\"T_2c80d_row3_col1\" class=\"data row3 col1\" >0.057328</td>\n",
       "      <td id=\"T_2c80d_row3_col2\" class=\"data row3 col2\" >0.207371</td>\n",
       "      <td id=\"T_2c80d_row3_col3\" class=\"data row3 col3\" >1.000000</td>\n",
       "      <td id=\"T_2c80d_row3_col4\" class=\"data row3 col4\" >0.436783</td>\n",
       "      <td id=\"T_2c80d_row3_col5\" class=\"data row3 col5\" >0.392573</td>\n",
       "      <td id=\"T_2c80d_row3_col6\" class=\"data row3 col6\" >0.183928</td>\n",
       "      <td id=\"T_2c80d_row3_col7\" class=\"data row3 col7\" >-0.113970</td>\n",
       "      <td id=\"T_2c80d_row3_col8\" class=\"data row3 col8\" >0.074752</td>\n",
       "    </tr>\n",
       "    <tr>\n",
       "      <th id=\"T_2c80d_level0_row4\" class=\"row_heading level0 row4\" >Insulin</th>\n",
       "      <td id=\"T_2c80d_row4_col0\" class=\"data row4 col0\" >-0.073535</td>\n",
       "      <td id=\"T_2c80d_row4_col1\" class=\"data row4 col1\" >0.331357</td>\n",
       "      <td id=\"T_2c80d_row4_col2\" class=\"data row4 col2\" >0.088933</td>\n",
       "      <td id=\"T_2c80d_row4_col3\" class=\"data row4 col3\" >0.436783</td>\n",
       "      <td id=\"T_2c80d_row4_col4\" class=\"data row4 col4\" >1.000000</td>\n",
       "      <td id=\"T_2c80d_row4_col5\" class=\"data row4 col5\" >0.197859</td>\n",
       "      <td id=\"T_2c80d_row4_col6\" class=\"data row4 col6\" >0.185071</td>\n",
       "      <td id=\"T_2c80d_row4_col7\" class=\"data row4 col7\" >-0.042163</td>\n",
       "      <td id=\"T_2c80d_row4_col8\" class=\"data row4 col8\" >0.130548</td>\n",
       "    </tr>\n",
       "    <tr>\n",
       "      <th id=\"T_2c80d_level0_row5\" class=\"row_heading level0 row5\" >BMI</th>\n",
       "      <td id=\"T_2c80d_row5_col0\" class=\"data row5 col0\" >0.017683</td>\n",
       "      <td id=\"T_2c80d_row5_col1\" class=\"data row5 col1\" >0.221071</td>\n",
       "      <td id=\"T_2c80d_row5_col2\" class=\"data row5 col2\" >0.281805</td>\n",
       "      <td id=\"T_2c80d_row5_col3\" class=\"data row5 col3\" >0.392573</td>\n",
       "      <td id=\"T_2c80d_row5_col4\" class=\"data row5 col4\" >0.197859</td>\n",
       "      <td id=\"T_2c80d_row5_col5\" class=\"data row5 col5\" >1.000000</td>\n",
       "      <td id=\"T_2c80d_row5_col6\" class=\"data row5 col6\" >0.140647</td>\n",
       "      <td id=\"T_2c80d_row5_col7\" class=\"data row5 col7\" >0.036242</td>\n",
       "      <td id=\"T_2c80d_row5_col8\" class=\"data row5 col8\" >0.292695</td>\n",
       "    </tr>\n",
       "    <tr>\n",
       "      <th id=\"T_2c80d_level0_row6\" class=\"row_heading level0 row6\" >DiabetesPedigreeFunction</th>\n",
       "      <td id=\"T_2c80d_row6_col0\" class=\"data row6 col0\" >-0.033523</td>\n",
       "      <td id=\"T_2c80d_row6_col1\" class=\"data row6 col1\" >0.137337</td>\n",
       "      <td id=\"T_2c80d_row6_col2\" class=\"data row6 col2\" >0.041265</td>\n",
       "      <td id=\"T_2c80d_row6_col3\" class=\"data row6 col3\" >0.183928</td>\n",
       "      <td id=\"T_2c80d_row6_col4\" class=\"data row6 col4\" >0.185071</td>\n",
       "      <td id=\"T_2c80d_row6_col5\" class=\"data row6 col5\" >0.140647</td>\n",
       "      <td id=\"T_2c80d_row6_col6\" class=\"data row6 col6\" >1.000000</td>\n",
       "      <td id=\"T_2c80d_row6_col7\" class=\"data row6 col7\" >0.033561</td>\n",
       "      <td id=\"T_2c80d_row6_col8\" class=\"data row6 col8\" >0.173844</td>\n",
       "    </tr>\n",
       "    <tr>\n",
       "      <th id=\"T_2c80d_level0_row7\" class=\"row_heading level0 row7\" >Age</th>\n",
       "      <td id=\"T_2c80d_row7_col0\" class=\"data row7 col0\" >0.544341</td>\n",
       "      <td id=\"T_2c80d_row7_col1\" class=\"data row7 col1\" >0.263514</td>\n",
       "      <td id=\"T_2c80d_row7_col2\" class=\"data row7 col2\" >0.239528</td>\n",
       "      <td id=\"T_2c80d_row7_col3\" class=\"data row7 col3\" >-0.113970</td>\n",
       "      <td id=\"T_2c80d_row7_col4\" class=\"data row7 col4\" >-0.042163</td>\n",
       "      <td id=\"T_2c80d_row7_col5\" class=\"data row7 col5\" >0.036242</td>\n",
       "      <td id=\"T_2c80d_row7_col6\" class=\"data row7 col6\" >0.033561</td>\n",
       "      <td id=\"T_2c80d_row7_col7\" class=\"data row7 col7\" >1.000000</td>\n",
       "      <td id=\"T_2c80d_row7_col8\" class=\"data row7 col8\" >0.238356</td>\n",
       "    </tr>\n",
       "    <tr>\n",
       "      <th id=\"T_2c80d_level0_row8\" class=\"row_heading level0 row8\" >Outcome</th>\n",
       "      <td id=\"T_2c80d_row8_col0\" class=\"data row8 col0\" >0.221898</td>\n",
       "      <td id=\"T_2c80d_row8_col1\" class=\"data row8 col1\" >0.466581</td>\n",
       "      <td id=\"T_2c80d_row8_col2\" class=\"data row8 col2\" >0.065068</td>\n",
       "      <td id=\"T_2c80d_row8_col3\" class=\"data row8 col3\" >0.074752</td>\n",
       "      <td id=\"T_2c80d_row8_col4\" class=\"data row8 col4\" >0.130548</td>\n",
       "      <td id=\"T_2c80d_row8_col5\" class=\"data row8 col5\" >0.292695</td>\n",
       "      <td id=\"T_2c80d_row8_col6\" class=\"data row8 col6\" >0.173844</td>\n",
       "      <td id=\"T_2c80d_row8_col7\" class=\"data row8 col7\" >0.238356</td>\n",
       "      <td id=\"T_2c80d_row8_col8\" class=\"data row8 col8\" >1.000000</td>\n",
       "    </tr>\n",
       "  </tbody>\n",
       "</table>\n"
      ],
      "text/plain": [
       "<pandas.io.formats.style.Styler at 0x253e8d33cd0>"
      ]
     },
     "execution_count": 6,
     "metadata": {},
     "output_type": "execute_result"
    }
   ],
   "source": [
    "corr = df_treino.corr()\n",
    "corr.style.background_gradient(cmap='coolwarm')\n",
    "# 'RdBu_r', 'BrBG_r', & PuOr_r are other good diverging colormaps"
   ]
  },
  {
   "cell_type": "code",
   "execution_count": 7,
   "id": "32ad2f7b",
   "metadata": {},
   "outputs": [
    {
     "data": {
      "image/png": "[encoded data removed]",
      "text/plain": [
       "<Figure size 432x288 with 2 Axes>"
      ]
     },
     "metadata": {},
     "output_type": "display_data"
    }
   ],
   "source": [
    "k = 15 #number of variables for heatmap\n",
    "cols = corr.nlargest(k, 'Outcome')['Outcome'].index\n",
    "cm = np.corrcoef(df_treino[cols].values.T)\n",
    "sns.set(font_scale=1.25)\n",
    "hm = sns.heatmap(cm, cbar=True, annot=True, square=True, fmt='.2f', annot_kws={'size': 10}, yticklabels=cols.values, xticklabels=cols.values)\n",
    "plt.show()"
   ]
  },
  {
   "attachments": {},
   "cell_type": "markdown",
   "id": "ac1135ec",
   "metadata": {},
   "source": [
    "<font size=\"2\">Também para o propósito da atividade, ao invés de tratar os outliers das colunas Skinthickness e Insulin, irei simplesmente removê-las no treinamento."
   ]
  },
  {
   "cell_type": "code",
   "execution_count": 8,
   "id": "fec28f65",
   "metadata": {},
   "outputs": [
    {
     "data": {
      "text/plain": [
       "Outcome                     1.000000\n",
       "Glucose                     0.466581\n",
       "BMI                         0.292695\n",
       "Age                         0.238356\n",
       "Pregnancies                 0.221898\n",
       "DiabetesPedigreeFunction    0.173844\n",
       "Insulin                     0.130548\n",
       "SkinThickness               0.074752\n",
       "BloodPressure               0.065068\n",
       "Name: Outcome, dtype: float64"
      ]
     },
     "execution_count": 8,
     "metadata": {},
     "output_type": "execute_result"
    }
   ],
   "source": [
    "corr['Outcome'].sort_values(ascending=False)"
   ]
  },
  {
   "cell_type": "code",
   "execution_count": 35,
   "id": "16a179bd",
   "metadata": {},
   "outputs": [
    {
     "data": {
      "text/plain": [
       "0    0.651042\n",
       "1    0.348958\n",
       "Name: Outcome, dtype: float64"
      ]
     },
     "execution_count": 35,
     "metadata": {},
     "output_type": "execute_result"
    }
   ],
   "source": [
    "#check balanceamento\n",
    "df_treino['Outcome'].value_counts(normalize=True)"
   ]
  },
  {
   "attachments": {},
   "cell_type": "markdown",
   "id": "1c1c202e",
   "metadata": {},
   "source": [
    "<font size=\"2\">Não temos variáveis relacionadas negativamente com nossa target, poderia ser um problema no caso de utilizarmos modelo de regressão, nesse caso irei utilizar todas (exceto as que possuem outliers)"
   ]
  },
  {
   "cell_type": "code",
   "execution_count": 127,
   "id": "eb82b905",
   "metadata": {},
   "outputs": [],
   "source": [
    "y = df_treino['Outcome']\n",
    "x = df_treino.drop(['Outcome','Insulin','SkinThickness'],axis=1)\n"
   ]
  },
  {
   "cell_type": "code",
   "execution_count": 128,
   "id": "be2bd9b7",
   "metadata": {},
   "outputs": [
    {
     "data": {
      "text/plain": [
       "((537, 6), (537,), (231, 6), (231,))"
      ]
     },
     "execution_count": 128,
     "metadata": {},
     "output_type": "execute_result"
    }
   ],
   "source": [
    "from sklearn.model_selection import train_test_split\n",
    "\n",
    "x_tr,x_test,y_tr,y_test = train_test_split(x,y,test_size = 0.3)\n",
    "\n",
    "x_tr.shape, y_tr.shape, x_test.shape,y_test.shape"
   ]
  },
  {
   "attachments": {},
   "cell_type": "markdown",
   "id": "0171fbea",
   "metadata": {},
   "source": [
    "<font size=\"2\">Abaixo testes sem aprofundamento de modelos apenas para ter uma ideia do melhor ponto de partida. Vou ver como o modelo se sai com tudo em defeaut com Regressão Logistica, Random forest e um XGBOOST usando F1 SCORE score para avaliação"
   ]
  },
  {
   "cell_type": "code",
   "execution_count": 129,
   "id": "a1882117",
   "metadata": {},
   "outputs": [
    {
     "name": "stdout",
     "output_type": "stream",
     "text": [
      "0.6344827586206897\n"
     ]
    }
   ],
   "source": [
    "from sklearn.metrics import accuracy_score\n",
    "\n",
    "#regressão logistica\n",
    "from sklearn.linear_model import LogisticRegression\n",
    "modelo2 = LogisticRegression()\n",
    "modelo2.fit(x_tr,y_tr)\n",
    "y_pred = modelo2.predict(x_test)\n",
    "print(metrics.f1_score(y_test,y_pred))\n"
   ]
  },
  {
   "cell_type": "code",
   "execution_count": 130,
   "id": "99177daf",
   "metadata": {},
   "outputs": [
    {
     "name": "stdout",
     "output_type": "stream",
     "text": [
      "0.6410256410256411\n"
     ]
    }
   ],
   "source": [
    "from sklearn.ensemble import RandomForestClassifier\n",
    "modelo4 = RandomForestClassifier()\n",
    "modelo4.fit(x_tr,y_tr)\n",
    "y_pred = modelo4.predict(x_test)\n",
    "print(metrics.f1_score(y_test,y_pred))"
   ]
  },
  {
   "cell_type": "code",
   "execution_count": 131,
   "id": "d582e89c",
   "metadata": {},
   "outputs": [
    {
     "name": "stdout",
     "output_type": "stream",
     "text": [
      "0.6741573033707865\n"
     ]
    }
   ],
   "source": [
    "clf = BalancedRandomForestClassifier(max_depth=2, random_state=0)\n",
    "clf.fit(x_tr, y_tr)\n",
    "y_pred = clf.predict(x_test)\n",
    "print(metrics.f1_score(y_test,y_pred))"
   ]
  },
  {
   "cell_type": "code",
   "execution_count": 132,
   "id": "16fead74",
   "metadata": {},
   "outputs": [
    {
     "name": "stdout",
     "output_type": "stream",
     "text": [
      "0.6335403726708074\n"
     ]
    }
   ],
   "source": [
    "from sklearn import metrics\n",
    "model = XGBClassifier()\n",
    "model.fit(x_tr, y_tr)\n",
    "predictions = model.predict(x_test)\n",
    "print(metrics.f1_score(y_test,predictions))"
   ]
  },
  {
   "attachments": {},
   "cell_type": "markdown",
   "id": "d8990f0d",
   "metadata": {},
   "source": [
    "<font size=\"2\">Vou seguir com o balanced random forest - Rodar um gridsearch simples para tentar melhorar as métricas"
   ]
  },
  {
   "cell_type": "code",
   "execution_count": 133,
   "id": "f9b2ffee",
   "metadata": {},
   "outputs": [],
   "source": [
    "rfc=BalancedRandomForestClassifier()\n",
    "\n",
    "param_grid = { \n",
    "    'n_estimators': [100,300],\n",
    "    'max_depth' : [2,4,5,6,7,8],\n",
    "    'criterion' :['gini', 'entropy']\n",
    "}"
   ]
  },
  {
   "cell_type": "code",
   "execution_count": 134,
   "id": "cf10165e",
   "metadata": {},
   "outputs": [
    {
     "data": {
      "text/plain": [
       "GridSearchCV(cv=5, estimator=BalancedRandomForestClassifier(),\n",
       "             param_grid={'criterion': ['gini', 'entropy'],\n",
       "                         'max_depth': [2, 4, 5, 6, 7, 8],\n",
       "                         'n_estimators': [100, 300]},\n",
       "             scoring='f1')"
      ]
     },
     "execution_count": 134,
     "metadata": {},
     "output_type": "execute_result"
    }
   ],
   "source": [
    "CV_rfc = GridSearchCV(estimator=rfc, param_grid=param_grid, cv= 5,scoring='f1')\n",
    "CV_rfc.fit(x_tr, y_tr)"
   ]
  },
  {
   "cell_type": "code",
   "execution_count": 135,
   "id": "1d21cc4c",
   "metadata": {},
   "outputs": [
    {
     "name": "stdout",
     "output_type": "stream",
     "text": [
      "{'criterion': 'entropy', 'max_depth': 5, 'n_estimators': 100}\n",
      "0.7039041295271972\n"
     ]
    }
   ],
   "source": [
    "print(CV_rfc.best_params_)\n",
    "print(CV_rfc.best_score_)"
   ]
  },
  {
   "attachments": {},
   "cell_type": "markdown",
   "id": "44381c4f",
   "metadata": {},
   "source": [
    "<font size=\"2\"> Uma melhora pouco significativa mas ainda assim uma melhora :P, podemos explorar outros parâmetros."
   ]
  },
  {
   "cell_type": "code",
   "execution_count": 136,
   "id": "02c94e95",
   "metadata": {},
   "outputs": [],
   "source": [
    "clf = BalancedRandomForestClassifier(max_depth=2,criterion='entropy',n_estimators=100)\n",
    "clf.fit(x_tr, y_tr)\n",
    "predictions = clf.predict_proba(x_test)[:,1]"
   ]
  },
  {
   "attachments": {},
   "cell_type": "markdown",
   "id": "b51c6323",
   "metadata": {},
   "source": [
    "<font size=\"2\">Vou ver se esse score é estável e também checar a área abaixo da curva ROC"
   ]
  },
  {
   "cell_type": "code",
   "execution_count": 137,
   "id": "f8b33ce2",
   "metadata": {},
   "outputs": [
    {
     "name": "stdout",
     "output_type": "stream",
     "text": [
      "[0.64840183 0.64347826 0.72380952 0.63478261 0.62068966 0.63559322\n",
      " 0.67281106 0.67924528 0.66063348 0.70642202 0.68224299 0.68181818\n",
      " 0.66666667 0.71028037 0.72222222 0.67676768 0.69955157 0.68867925\n",
      " 0.67326733 0.67241379]\n",
      "0.6749888493697487\n"
     ]
    }
   ],
   "source": [
    "from sklearn.model_selection import cross_val_score,RepeatedKFold\n",
    "from sklearn.metrics import roc_auc_score,f1_score,precision_score\n",
    "\n",
    "kf = RepeatedKFold(n_splits=2,n_repeats=10, random_state=10)\n",
    "resultados_cv = cross_val_score(clf,x_tr,y_tr,cv=kf,scoring='f1')\n",
    "print(resultados_cv)\n",
    "print(np.mean(resultados_cv))"
   ]
  },
  {
   "cell_type": "code",
   "execution_count": 138,
   "id": "044b1f47",
   "metadata": {},
   "outputs": [
    {
     "name": "stdout",
     "output_type": "stream",
     "text": [
      "[0.82590407 0.78610119 0.84857988 0.79911616 0.81981763 0.81474688\n",
      " 0.84451369 0.82324308 0.84457497 0.8122962  0.83846799 0.84230459\n",
      " 0.81477503 0.85168539 0.82365396 0.8425192  0.81674556 0.85631313\n",
      " 0.84537205 0.82144393]\n",
      "0.8286087294959573\n"
     ]
    }
   ],
   "source": [
    "from sklearn.model_selection import cross_val_score,RepeatedKFold\n",
    "from sklearn.metrics import roc_auc_score,f1_score,precision_score\n",
    "\n",
    "kf = RepeatedKFold(n_splits=2,n_repeats=10, random_state=10)\n",
    "resultados_cv = cross_val_score(clf,x_tr,y_tr,cv=kf,scoring='roc_auc')\n",
    "print(resultados_cv)\n",
    "print(np.mean(resultados_cv))"
   ]
  },
  {
   "attachments": {},
   "cell_type": "markdown",
   "id": "74ee4ea8",
   "metadata": {},
   "source": [
    "<font size=\"2\"> Para avaliar também a separação das classes, irei utilizar a estatística KS cuja função é comparar as distribuições acumulativas e verificar a diferenças entre eles. Nos mostra o quão bem o modelo discrimina evento do não evento."
   ]
  },
  {
   "cell_type": "code",
   "execution_count": 139,
   "id": "70f54005",
   "metadata": {},
   "outputs": [
    {
     "name": "stdout",
     "output_type": "stream",
     "text": [
      "Good classifier:\n",
      "KS: 0.5072 (p-value: 7.894e-13)\n",
      "ROC AUC: 0.8083\n"
     ]
    }
   ],
   "source": [
    "from scipy.stats import ks_2samp\n",
    "from sklearn.metrics import roc_auc_score\n",
    "def evaluate_ks_and_roc_auc(y_real, y_proba):\n",
    "    # Unite both visions to be able to filter\n",
    "    df = pd.DataFrame()\n",
    "    df['real'] = y_real\n",
    "    df['proba'] = y_proba\n",
    "    \n",
    "    # Recover each class\n",
    "    class0 = df[df['real'] == 0]\n",
    "    class1 = df[df['real'] == 1]\n",
    "    \n",
    "    ks = ks_2samp(class0['proba'], class1['proba'])\n",
    "    roc_auc = roc_auc_score(df['real'] , df['proba'])\n",
    "    \n",
    "    print(f\"KS: {ks.statistic:.4f} (p-value: {ks.pvalue:.3e})\")\n",
    "    print(f\"ROC AUC: {roc_auc:.4f}\")\n",
    "    return ks.statistic, roc_auc\n",
    "print(\"Good classifier:\")\n",
    "ks_good, auc_good = evaluate_ks_and_roc_auc(y_test, predictions)"
   ]
  },
  {
   "cell_type": "code",
   "execution_count": 140,
   "id": "137f0ddd",
   "metadata": {},
   "outputs": [],
   "source": [
    "\n",
    "def cdf(sample, x, sort = False):\n",
    "    '''\n",
    "    Return the value of the Cumulative Distribution Function, evaluated for a given sample and a value x.\n",
    "    \n",
    "    Args:\n",
    "        sample: The list or array of observations.\n",
    "        x: The value for which the numerical cdf is evaluated.\n",
    "    \n",
    "    Returns:\n",
    "        cdf = CDF_{sample}(x)\n",
    "    '''\n",
    "    \n",
    "    # Sorts the sample, if needed\n",
    "    if sort:\n",
    "        sample.sort()\n",
    "    \n",
    "    # Counts how many observations are below x\n",
    "    cdf = sum(sample <= x)\n",
    "    \n",
    "    # Divides by the total number of observations\n",
    "    cdf = cdf / len(sample)\n",
    "    \n",
    "    return cdf"
   ]
  },
  {
   "cell_type": "code",
   "execution_count": 141,
   "id": "ac955dce",
   "metadata": {},
   "outputs": [],
   "source": [
    "def get_classes_cdf(y_real, y_proba):\n",
    "    # Unite both visions to be able to filter\n",
    "    df = pd.DataFrame()\n",
    "    df['real'] = y_real\n",
    "    df['proba'] = y_proba\n",
    "    \n",
    "    # Recover each class\n",
    "    class0 = df[df['real'] == 0].sort_values('proba')\n",
    "    class1 = df[df['real'] == 1].sort_values('proba')\n",
    "    \n",
    "    # Calculates the cdfs\n",
    "    cdf0 = np.array([cdf(class0['proba'].values, x, sort = False) for x in class0['proba'].values])\n",
    "    cdf1 = np.array([cdf(class1['proba'].values, x, sort = False) for x in class1['proba'].values])\n",
    "    \n",
    "    # Results\n",
    "    results =  {\n",
    "        'cdf0': cdf0,\n",
    "        'cdf1': cdf1,\n",
    "        'proba0': class0['proba'].values, \n",
    "        'proba1': class1['proba'].values, \n",
    "    }\n",
    "    \n",
    "    return results"
   ]
  },
  {
   "cell_type": "code",
   "execution_count": 142,
   "id": "f45f3bd2",
   "metadata": {},
   "outputs": [],
   "source": [
    "cdf_good = get_classes_cdf(y_test, predictions)"
   ]
  },
  {
   "cell_type": "code",
   "execution_count": 143,
   "id": "f8f0dcdc",
   "metadata": {},
   "outputs": [
    {
     "data": {
      "text/plain": [
       "<matplotlib.legend.Legend at 0x25386710430>"
      ]
     },
     "execution_count": 143,
     "metadata": {},
     "output_type": "execute_result"
    },
    {
     "data": {
      "image/png": "[encoded data removed]",
      "text/plain": [
       "<Figure size 432x288 with 1 Axes>"
      ]
     },
     "metadata": {
      "needs_background": "light"
     },
     "output_type": "display_data"
    }
   ],
   "source": [
    "sns.lineplot(x = cdf_good['proba0'], y = cdf_good['cdf0'], color = 'b', linewidth = 3)\n",
    "sns.lineplot(x = cdf_good['proba1'], y = cdf_good['cdf1'], color = 'g', linewidth = 3)\n",
    "plt.legend([\"class 0\", \"class 1\"])"
   ]
  },
  {
   "attachments": {},
   "cell_type": "markdown",
   "id": "9a247d13",
   "metadata": {},
   "source": [
    "<font size=\"2\">Com esse KS de 55% e o valor P < 5% podemos rejeitar a hipotese nula e concluir que a distribuição dos eventos versus não eventos são estatisticamente diferentes."
   ]
  },
  {
   "attachments": {},
   "cell_type": "markdown",
   "id": "3660d7c2",
   "metadata": {},
   "source": [
    "<font size=\"2\">Pensando numa possível disponibilização para clientes, faz sentido fornecermos scores de propensão a diebetes para que o cliente final possa utilizar ao invés de probabilidades ou output de 0 ou 1 com threshold em 0,5%.\n",
    "\n",
    "A ideia de usar os scores é separar as probabilidades em decis onde tenhamos mais ou menos a mesma quantidade de previsões no mesmo score."
   ]
  },
  {
   "cell_type": "code",
   "execution_count": 119,
   "id": "441a92d0",
   "metadata": {},
   "outputs": [],
   "source": [
    "N_BINS = 10\n",
    "LABELS = [1,2,3,4,5,6,7,8,9,10]\n",
    "\n",
    "#inclui as previsoes no dataframe de teste (e futuramente os novos dados que surgirem)\n",
    "x_test['previsoes'] = predictions\n",
    "x_test['y_real'] = y_test\n",
    "df = x_test\n",
    "df['bin_quantile'],bins_quantile = pd.qcut(df['previsoes'],q=10,retbins=True,labels=LABELS)\n"
   ]
  },
  {
   "cell_type": "code",
   "execution_count": 120,
   "id": "1c728f74",
   "metadata": {},
   "outputs": [
    {
     "data": {
      "text/plain": [
       "array([-0.1       ,  0.23046288,  0.31779885,  0.38698063,  0.44170474,\n",
       "        0.48405247,  0.51831502,  0.57611574,  0.64460026,  0.69173381,\n",
       "        1.1       ])"
      ]
     },
     "execution_count": 120,
     "metadata": {},
     "output_type": "execute_result"
    }
   ],
   "source": [
    "#ajusta o inicio e o fin dos labels\n",
    "bins_quantile[0] = -0.1\n",
    "bins_quantile[len(bins_quantile) -1] = 1.1\n",
    "\n",
    "bins_quantile"
   ]
  },
  {
   "attachments": {},
   "cell_type": "markdown",
   "id": "d02c1494",
   "metadata": {},
   "source": [
    "<font size=\"2\">Esses mesmos labels precisam ser aplicados em novos dados"
   ]
  },
  {
   "cell_type": "code",
   "execution_count": 121,
   "id": "7710c7cc",
   "metadata": {},
   "outputs": [
    {
     "data": {
      "text/html": [
       "<div>\n",
       "<style scoped>\n",
       "    .dataframe tbody tr th:only-of-type {\n",
       "        vertical-align: middle;\n",
       "    }\n",
       "\n",
       "    .dataframe tbody tr th {\n",
       "        vertical-align: top;\n",
       "    }\n",
       "\n",
       "    .dataframe thead th {\n",
       "        text-align: right;\n",
       "    }\n",
       "</style>\n",
       "<table border=\"1\" class=\"dataframe\">\n",
       "  <thead>\n",
       "    <tr style=\"text-align: right;\">\n",
       "      <th></th>\n",
       "      <th>%target</th>\n",
       "      <th>qtde</th>\n",
       "      <th>% total</th>\n",
       "    </tr>\n",
       "    <tr>\n",
       "      <th>bin_quantile</th>\n",
       "      <th></th>\n",
       "      <th></th>\n",
       "      <th></th>\n",
       "    </tr>\n",
       "  </thead>\n",
       "  <tbody>\n",
       "    <tr>\n",
       "      <th>1</th>\n",
       "      <td>0.0%</td>\n",
       "      <td>24</td>\n",
       "      <td>10.4%</td>\n",
       "    </tr>\n",
       "    <tr>\n",
       "      <th>2</th>\n",
       "      <td>4.3%</td>\n",
       "      <td>23</td>\n",
       "      <td>10.0%</td>\n",
       "    </tr>\n",
       "    <tr>\n",
       "      <th>3</th>\n",
       "      <td>13.0%</td>\n",
       "      <td>23</td>\n",
       "      <td>10.0%</td>\n",
       "    </tr>\n",
       "    <tr>\n",
       "      <th>4</th>\n",
       "      <td>17.4%</td>\n",
       "      <td>23</td>\n",
       "      <td>10.0%</td>\n",
       "    </tr>\n",
       "    <tr>\n",
       "      <th>5</th>\n",
       "      <td>30.4%</td>\n",
       "      <td>23</td>\n",
       "      <td>10.0%</td>\n",
       "    </tr>\n",
       "    <tr>\n",
       "      <th>6</th>\n",
       "      <td>26.1%</td>\n",
       "      <td>23</td>\n",
       "      <td>10.0%</td>\n",
       "    </tr>\n",
       "    <tr>\n",
       "      <th>7</th>\n",
       "      <td>69.6%</td>\n",
       "      <td>23</td>\n",
       "      <td>10.0%</td>\n",
       "    </tr>\n",
       "    <tr>\n",
       "      <th>8</th>\n",
       "      <td>34.8%</td>\n",
       "      <td>23</td>\n",
       "      <td>10.0%</td>\n",
       "    </tr>\n",
       "    <tr>\n",
       "      <th>9</th>\n",
       "      <td>87.0%</td>\n",
       "      <td>23</td>\n",
       "      <td>10.0%</td>\n",
       "    </tr>\n",
       "    <tr>\n",
       "      <th>10</th>\n",
       "      <td>82.6%</td>\n",
       "      <td>23</td>\n",
       "      <td>10.0%</td>\n",
       "    </tr>\n",
       "  </tbody>\n",
       "</table>\n",
       "</div>"
      ],
      "text/plain": [
       "              %target  qtde  % total\n",
       "bin_quantile                        \n",
       "1                0.0%    24    10.4%\n",
       "2                4.3%    23    10.0%\n",
       "3               13.0%    23    10.0%\n",
       "4               17.4%    23    10.0%\n",
       "5               30.4%    23    10.0%\n",
       "6               26.1%    23    10.0%\n",
       "7               69.6%    23    10.0%\n",
       "8               34.8%    23    10.0%\n",
       "9               87.0%    23    10.0%\n",
       "10              82.6%    23    10.0%"
      ]
     },
     "metadata": {},
     "output_type": "display_data"
    }
   ],
   "source": [
    "with pd.option_context('display.float_format', '{:,.1%}'.format):\n",
    "    agg_df = df.groupby('bin_quantile')['y_real'].agg(['mean','count'])\n",
    "    agg_df[\"%\"] = agg_df['count']/agg_df['count'].sum()\n",
    "    agg_df.columns = ['%target','qtde','% total']\n",
    "    display(agg_df)"
   ]
  },
  {
   "attachments": {},
   "cell_type": "markdown",
   "id": "96ad0159",
   "metadata": {},
   "source": [
    "<font size=\"2\">A ideia é quanto maior os labels/scores, mais da target deve ser capturada, não conseguimos ver esse movimento aqui talvez por ter poucos dados. Esperariamos um número crescente de captura da target. Por esse quadro temos apenas uma confiança maior utilizando os scores 9 e 10 de propensão a ter diabetes."
   ]
  },
  {
   "cell_type": "code",
   "execution_count": 125,
   "id": "afe542dc",
   "metadata": {},
   "outputs": [
    {
     "data": {
      "text/html": [
       "<div>\n",
       "<style scoped>\n",
       "    .dataframe tbody tr th:only-of-type {\n",
       "        vertical-align: middle;\n",
       "    }\n",
       "\n",
       "    .dataframe tbody tr th {\n",
       "        vertical-align: top;\n",
       "    }\n",
       "\n",
       "    .dataframe thead th {\n",
       "        text-align: right;\n",
       "    }\n",
       "</style>\n",
       "<table border=\"1\" class=\"dataframe\">\n",
       "  <thead>\n",
       "    <tr style=\"text-align: right;\">\n",
       "      <th></th>\n",
       "      <th>Pregnancies</th>\n",
       "      <th>Glucose</th>\n",
       "      <th>BloodPressure</th>\n",
       "      <th>SkinThickness</th>\n",
       "      <th>Insulin</th>\n",
       "      <th>BMI</th>\n",
       "      <th>DiabetesPedigreeFunction</th>\n",
       "      <th>Age</th>\n",
       "      <th>previsoes</th>\n",
       "      <th>propensao_diabetes</th>\n",
       "      <th>y_real</th>\n",
       "    </tr>\n",
       "  </thead>\n",
       "  <tbody>\n",
       "    <tr>\n",
       "      <th>550</th>\n",
       "      <td>1</td>\n",
       "      <td>116</td>\n",
       "      <td>70</td>\n",
       "      <td>28</td>\n",
       "      <td>0</td>\n",
       "      <td>27.40</td>\n",
       "      <td>0.20</td>\n",
       "      <td>21</td>\n",
       "      <td>0.31</td>\n",
       "      <td>2</td>\n",
       "      <td>0</td>\n",
       "    </tr>\n",
       "    <tr>\n",
       "      <th>388</th>\n",
       "      <td>5</td>\n",
       "      <td>144</td>\n",
       "      <td>82</td>\n",
       "      <td>26</td>\n",
       "      <td>285</td>\n",
       "      <td>32.00</td>\n",
       "      <td>0.45</td>\n",
       "      <td>58</td>\n",
       "      <td>0.68</td>\n",
       "      <td>9</td>\n",
       "      <td>1</td>\n",
       "    </tr>\n",
       "    <tr>\n",
       "      <th>155</th>\n",
       "      <td>7</td>\n",
       "      <td>152</td>\n",
       "      <td>88</td>\n",
       "      <td>44</td>\n",
       "      <td>0</td>\n",
       "      <td>50.00</td>\n",
       "      <td>0.34</td>\n",
       "      <td>36</td>\n",
       "      <td>0.68</td>\n",
       "      <td>9</td>\n",
       "      <td>1</td>\n",
       "    </tr>\n",
       "    <tr>\n",
       "      <th>499</th>\n",
       "      <td>6</td>\n",
       "      <td>154</td>\n",
       "      <td>74</td>\n",
       "      <td>32</td>\n",
       "      <td>193</td>\n",
       "      <td>29.30</td>\n",
       "      <td>0.84</td>\n",
       "      <td>39</td>\n",
       "      <td>0.68</td>\n",
       "      <td>9</td>\n",
       "      <td>0</td>\n",
       "    </tr>\n",
       "    <tr>\n",
       "      <th>116</th>\n",
       "      <td>5</td>\n",
       "      <td>124</td>\n",
       "      <td>74</td>\n",
       "      <td>0</td>\n",
       "      <td>0</td>\n",
       "      <td>34.00</td>\n",
       "      <td>0.22</td>\n",
       "      <td>38</td>\n",
       "      <td>0.59</td>\n",
       "      <td>8</td>\n",
       "      <td>1</td>\n",
       "    </tr>\n",
       "    <tr>\n",
       "      <th>...</th>\n",
       "      <td>...</td>\n",
       "      <td>...</td>\n",
       "      <td>...</td>\n",
       "      <td>...</td>\n",
       "      <td>...</td>\n",
       "      <td>...</td>\n",
       "      <td>...</td>\n",
       "      <td>...</td>\n",
       "      <td>...</td>\n",
       "      <td>...</td>\n",
       "      <td>...</td>\n",
       "    </tr>\n",
       "    <tr>\n",
       "      <th>188</th>\n",
       "      <td>8</td>\n",
       "      <td>109</td>\n",
       "      <td>76</td>\n",
       "      <td>39</td>\n",
       "      <td>114</td>\n",
       "      <td>27.90</td>\n",
       "      <td>0.64</td>\n",
       "      <td>31</td>\n",
       "      <td>0.49</td>\n",
       "      <td>6</td>\n",
       "      <td>1</td>\n",
       "    </tr>\n",
       "    <tr>\n",
       "      <th>135</th>\n",
       "      <td>2</td>\n",
       "      <td>125</td>\n",
       "      <td>60</td>\n",
       "      <td>20</td>\n",
       "      <td>140</td>\n",
       "      <td>33.80</td>\n",
       "      <td>0.09</td>\n",
       "      <td>31</td>\n",
       "      <td>0.58</td>\n",
       "      <td>8</td>\n",
       "      <td>0</td>\n",
       "    </tr>\n",
       "    <tr>\n",
       "      <th>308</th>\n",
       "      <td>0</td>\n",
       "      <td>128</td>\n",
       "      <td>68</td>\n",
       "      <td>19</td>\n",
       "      <td>180</td>\n",
       "      <td>30.50</td>\n",
       "      <td>1.39</td>\n",
       "      <td>25</td>\n",
       "      <td>0.56</td>\n",
       "      <td>7</td>\n",
       "      <td>1</td>\n",
       "    </tr>\n",
       "    <tr>\n",
       "      <th>637</th>\n",
       "      <td>2</td>\n",
       "      <td>94</td>\n",
       "      <td>76</td>\n",
       "      <td>18</td>\n",
       "      <td>66</td>\n",
       "      <td>31.60</td>\n",
       "      <td>0.65</td>\n",
       "      <td>23</td>\n",
       "      <td>0.33</td>\n",
       "      <td>3</td>\n",
       "      <td>0</td>\n",
       "    </tr>\n",
       "    <tr>\n",
       "      <th>633</th>\n",
       "      <td>1</td>\n",
       "      <td>128</td>\n",
       "      <td>82</td>\n",
       "      <td>17</td>\n",
       "      <td>183</td>\n",
       "      <td>27.50</td>\n",
       "      <td>0.12</td>\n",
       "      <td>22</td>\n",
       "      <td>0.41</td>\n",
       "      <td>4</td>\n",
       "      <td>0</td>\n",
       "    </tr>\n",
       "  </tbody>\n",
       "</table>\n",
       "<p>231 rows × 11 columns</p>\n",
       "</div>"
      ],
      "text/plain": [
       "     Pregnancies  Glucose  BloodPressure  SkinThickness  Insulin   BMI  \\\n",
       "550            1      116             70             28        0 27.40   \n",
       "388            5      144             82             26      285 32.00   \n",
       "155            7      152             88             44        0 50.00   \n",
       "499            6      154             74             32      193 29.30   \n",
       "116            5      124             74              0        0 34.00   \n",
       "..           ...      ...            ...            ...      ...   ...   \n",
       "188            8      109             76             39      114 27.90   \n",
       "135            2      125             60             20      140 33.80   \n",
       "308            0      128             68             19      180 30.50   \n",
       "637            2       94             76             18       66 31.60   \n",
       "633            1      128             82             17      183 27.50   \n",
       "\n",
       "     DiabetesPedigreeFunction  Age  previsoes propensao_diabetes  y_real  \n",
       "550                      0.20   21       0.31                  2       0  \n",
       "388                      0.45   58       0.68                  9       1  \n",
       "155                      0.34   36       0.68                  9       1  \n",
       "499                      0.84   39       0.68                  9       0  \n",
       "116                      0.22   38       0.59                  8       1  \n",
       "..                        ...  ...        ...                ...     ...  \n",
       "188                      0.64   31       0.49                  6       1  \n",
       "135                      0.09   31       0.58                  8       0  \n",
       "308                      1.39   25       0.56                  7       1  \n",
       "637                      0.65   23       0.33                  3       0  \n",
       "633                      0.12   22       0.41                  4       0  \n",
       "\n",
       "[231 rows x 11 columns]"
      ]
     },
     "execution_count": 125,
     "metadata": {},
     "output_type": "execute_result"
    }
   ],
   "source": [
    "df.rename(columns={'bin_quantile':'propensao_diabetes'})"
   ]
  },
  {
   "attachments": {},
   "cell_type": "markdown",
   "id": "a897aaa6",
   "metadata": {},
   "source": [
    "<font size=\"2\">A disponibilização final seria a base com a coluna 'Propensao diebetes' onde teoricamente quanto maior o valor, mais propenso o paciente é a ter diebetes."
   ]
  },
  {
   "attachments": {},
   "cell_type": "markdown",
   "id": "6292a657",
   "metadata": {},
   "source": [
    "Conclusão:\n",
    "<font size=\"2\">Modelo mediano, com várias possibilidades de melhorias, principalmente dando mais atenção as features, removendo outliers e etc."
   ]
  },
  {
   "cell_type": "markdown",
   "id": "9d6b5daa",
   "metadata": {},
   "source": []
  }
 ],
 "metadata": {
  "kernelspec": {
   "display_name": "Python 3.9.2 64-bit",
   "language": "python",
   "name": "python3"
  },
  "language_info": {
   "codemirror_mode": {
    "name": "ipython",
    "version": 3
   },
   "file_extension": ".py",
   "mimetype": "text/x-python",
   "name": "python",
   "nbconvert_exporter": "python",
   "pygments_lexer": "ipython3",
   "version": "3.9.2"
  },
  "vscode": {
   "interpreter": {
    "hash": "04960c5145ab47ab0779e31ce236b116804f1cc2d8ecd23cfaf2cb0145c4d509"
   }
  }
 },
 "nbformat": 4,
 "nbformat_minor": 5
}
